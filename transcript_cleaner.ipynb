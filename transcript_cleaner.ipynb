{
 "cells": [
  {
   "cell_type": "code",
   "execution_count": 20,
   "metadata": {},
   "outputs": [],
   "source": [
    "import re\n",
    "def netflix_transcript_cleaner(input_file, output_file):\n",
    "    file = open(input_file)\n",
    "    text = file.read()\n",
    "    rows = text.split('</p>')\n",
    "    out_file = open(output_file, 'w')\n",
    "    regex = re.compile('<.*>|\\n')\n",
    "    punct_regex = re.compile('.*[.?!]')\n",
    "    for row in rows:\n",
    "        clean = re.sub(regex, ' ', row)\n",
    "        if re.match(punct_regex, clean):\n",
    "            clean = clean + '\\n'\n",
    "        out_file.write(clean.lower())\n",
    "        \n",
    "def youtube_transcript_cleaner(input_file, output_file):\n",
    "    file = open(input_file)\n",
    "    text = file.read()\n",
    "    rows = text.split('</p>')\n",
    "    out_file = open(output_file, 'w')\n",
    "    regex = re.compile('<.*p=\"2\">[\\s\\S]*|<.*>')\n",
    "    apostrophe_regex = re.compile('&#39;')\n",
    "    for row in rows:\n",
    "        words = row.split('</s>')\n",
    "        clean_list = [re.sub(regex, '', word) for word in words]\n",
    "        clean_list = [re.sub(apostrophe_regex, '\\'', word) for word in clean_list]\n",
    "        clean = ''.join(clean_list) \n",
    "        out_file.write(clean)\n",
    "        \n",
    "        \n",
    "        \n",
    "youtube_transcript_cleaner('5levels.xml', '5levels_output.txt')\n",
    "        "
   ]
  }
 ],
 "metadata": {
  "kernelspec": {
   "display_name": "Python 3",
   "language": "python",
   "name": "python3"
  },
  "language_info": {
   "codemirror_mode": {
    "name": "ipython",
    "version": 3
   },
   "file_extension": ".py",
   "mimetype": "text/x-python",
   "name": "python",
   "nbconvert_exporter": "python",
   "pygments_lexer": "ipython3",
   "version": "3.7.0"
  }
 },
 "nbformat": 4,
 "nbformat_minor": 2
}
